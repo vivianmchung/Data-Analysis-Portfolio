{
 "cells": [
  {
   "cell_type": "markdown",
   "id": "e487e0db",
   "metadata": {},
   "source": [
    "# Sales Performance Report DQLab Store\n",
    "\n",
    "Link to dataset: https://www.kaggle.com/datasets/dhawyfarrasputra/sales-performance-report-dqlab-store/code"
   ]
  },
  {
   "cell_type": "markdown",
   "id": "e58b4463",
   "metadata": {},
   "source": [
    "## Import libraries"
   ]
  },
  {
   "cell_type": "code",
   "execution_count": 784,
   "id": "5976e391",
   "metadata": {},
   "outputs": [],
   "source": [
    "import pandas as pd\n",
    "import seaborn as sns\n",
    "import matplotlib.pyplot as plt"
   ]
  },
  {
   "cell_type": "code",
   "execution_count": 785,
   "id": "07b8b1ab",
   "metadata": {},
   "outputs": [],
   "source": [
    "df = pd.read_csv('/Users/vivianchung/Desktop/projects/archive(17)/raw_data.csv')"
   ]
  },
  {
   "cell_type": "code",
   "execution_count": 786,
   "id": "f038a5cd",
   "metadata": {},
   "outputs": [
    {
     "data": {
      "text/html": [
       "<div>\n",
       "<style scoped>\n",
       "    .dataframe tbody tr th:only-of-type {\n",
       "        vertical-align: middle;\n",
       "    }\n",
       "\n",
       "    .dataframe tbody tr th {\n",
       "        vertical-align: top;\n",
       "    }\n",
       "\n",
       "    .dataframe thead th {\n",
       "        text-align: right;\n",
       "    }\n",
       "</style>\n",
       "<table border=\"1\" class=\"dataframe\">\n",
       "  <thead>\n",
       "    <tr style=\"text-align: right;\">\n",
       "      <th></th>\n",
       "      <th>order_id | order_status    | customer               | order_date | order_quantity | sales     | discount | discount_value | product_category | product_sub_category           |</th>\n",
       "    </tr>\n",
       "  </thead>\n",
       "  <tbody>\n",
       "    <tr>\n",
       "      <th>0</th>\n",
       "      <td>+----------+-----------------+----------------...</td>\n",
       "    </tr>\n",
       "    <tr>\n",
       "      <th>1</th>\n",
       "      <td>|        3 | Order Finished  | Muhammed MacInt...</td>\n",
       "    </tr>\n",
       "    <tr>\n",
       "      <th>2</th>\n",
       "      <td>|      293 | Order Finished  | Barry French   ...</td>\n",
       "    </tr>\n",
       "    <tr>\n",
       "      <th>3</th>\n",
       "      <td>|      483 | Order Finished  | Clay Rozendal  ...</td>\n",
       "    </tr>\n",
       "    <tr>\n",
       "      <th>4</th>\n",
       "      <td>|      515 | Order Finished  | Carlos Soltero ...</td>\n",
       "    </tr>\n",
       "  </tbody>\n",
       "</table>\n",
       "</div>"
      ],
      "text/plain": [
       "   order_id | order_status    | customer               | order_date | order_quantity | sales     | discount | discount_value | product_category | product_sub_category           |\n",
       "0  +----------+-----------------+----------------...                                                                                                                              \n",
       "1  |        3 | Order Finished  | Muhammed MacInt...                                                                                                                              \n",
       "2  |      293 | Order Finished  | Barry French   ...                                                                                                                              \n",
       "3  |      483 | Order Finished  | Clay Rozendal  ...                                                                                                                              \n",
       "4  |      515 | Order Finished  | Carlos Soltero ...                                                                                                                              "
      ]
     },
     "execution_count": 786,
     "metadata": {},
     "output_type": "execute_result"
    }
   ],
   "source": [
    "df.head()"
   ]
  },
  {
   "cell_type": "code",
   "execution_count": 787,
   "id": "8737924d",
   "metadata": {},
   "outputs": [],
   "source": [
    "df = df.drop(0).reset_index(drop=True)"
   ]
  },
  {
   "cell_type": "code",
   "execution_count": 788,
   "id": "0a882787",
   "metadata": {
    "scrolled": true
   },
   "outputs": [
    {
     "data": {
      "text/plain": [
       "Index([' order_id | order_status    | customer               | order_date | order_quantity | sales     | discount | discount_value | product_category | product_sub_category           |'], dtype='object')"
      ]
     },
     "execution_count": 788,
     "metadata": {},
     "output_type": "execute_result"
    }
   ],
   "source": [
    "df.columns"
   ]
  },
  {
   "cell_type": "code",
   "execution_count": 789,
   "id": "72b2d6b1",
   "metadata": {},
   "outputs": [],
   "source": [
    "df1 = pd.DataFrame()"
   ]
  },
  {
   "cell_type": "code",
   "execution_count": 790,
   "id": "2413dbdb",
   "metadata": {},
   "outputs": [],
   "source": [
    "df1['order_id'] = df[' order_id | order_status    | customer               | order_date | order_quantity | sales     | discount | discount_value | product_category | product_sub_category           |']"
   ]
  },
  {
   "cell_type": "code",
   "execution_count": 791,
   "id": "2948fa2c",
   "metadata": {},
   "outputs": [
    {
     "data": {
      "text/html": [
       "<div>\n",
       "<style scoped>\n",
       "    .dataframe tbody tr th:only-of-type {\n",
       "        vertical-align: middle;\n",
       "    }\n",
       "\n",
       "    .dataframe tbody tr th {\n",
       "        vertical-align: top;\n",
       "    }\n",
       "\n",
       "    .dataframe thead th {\n",
       "        text-align: right;\n",
       "    }\n",
       "</style>\n",
       "<table border=\"1\" class=\"dataframe\">\n",
       "  <thead>\n",
       "    <tr style=\"text-align: right;\">\n",
       "      <th></th>\n",
       "      <th>order_id</th>\n",
       "    </tr>\n",
       "  </thead>\n",
       "  <tbody>\n",
       "    <tr>\n",
       "      <th>0</th>\n",
       "      <td>3 | Order Finished  | Muhammed MacInty...</td>\n",
       "    </tr>\n",
       "    <tr>\n",
       "      <th>1</th>\n",
       "      <td>293 | Order Finished  | Barry French    ...</td>\n",
       "    </tr>\n",
       "    <tr>\n",
       "      <th>2</th>\n",
       "      <td>483 | Order Finished  | Clay Rozendal   ...</td>\n",
       "    </tr>\n",
       "    <tr>\n",
       "      <th>3</th>\n",
       "      <td>515 | Order Finished  | Carlos Soltero  ...</td>\n",
       "    </tr>\n",
       "    <tr>\n",
       "      <th>4</th>\n",
       "      <td>613 | Order Finished  | Carl Jackson    ...</td>\n",
       "    </tr>\n",
       "  </tbody>\n",
       "</table>\n",
       "</div>"
      ],
      "text/plain": [
       "                                            order_id\n",
       "0          3 | Order Finished  | Muhammed MacInty...\n",
       "1        293 | Order Finished  | Barry French    ...\n",
       "2        483 | Order Finished  | Clay Rozendal   ...\n",
       "3        515 | Order Finished  | Carlos Soltero  ...\n",
       "4        613 | Order Finished  | Carl Jackson    ..."
      ]
     },
     "execution_count": 791,
     "metadata": {},
     "output_type": "execute_result"
    }
   ],
   "source": [
    "df1['order_id'] = df1['order_id'].str.strip()\n",
    "df1['order_id'] = df1['order_id'].str.lstrip('|')\n",
    "df1['order_id'] = df1['order_id'].str.rstrip('|')\n",
    "df1.head()"
   ]
  },
  {
   "cell_type": "code",
   "execution_count": 792,
   "id": "5bf37e86",
   "metadata": {
    "scrolled": false
   },
   "outputs": [
    {
     "data": {
      "text/html": [
       "<div>\n",
       "<style scoped>\n",
       "    .dataframe tbody tr th:only-of-type {\n",
       "        vertical-align: middle;\n",
       "    }\n",
       "\n",
       "    .dataframe tbody tr th {\n",
       "        vertical-align: top;\n",
       "    }\n",
       "\n",
       "    .dataframe thead th {\n",
       "        text-align: right;\n",
       "    }\n",
       "</style>\n",
       "<table border=\"1\" class=\"dataframe\">\n",
       "  <thead>\n",
       "    <tr style=\"text-align: right;\">\n",
       "      <th></th>\n",
       "      <th>0</th>\n",
       "      <th>1</th>\n",
       "      <th>2</th>\n",
       "      <th>3</th>\n",
       "      <th>4</th>\n",
       "      <th>5</th>\n",
       "      <th>6</th>\n",
       "      <th>7</th>\n",
       "      <th>8</th>\n",
       "      <th>9</th>\n",
       "    </tr>\n",
       "  </thead>\n",
       "  <tbody>\n",
       "    <tr>\n",
       "      <th>0</th>\n",
       "      <td>3</td>\n",
       "      <td>Order Finished</td>\n",
       "      <td>Muhammed MacIntyre</td>\n",
       "      <td>2010-10-13</td>\n",
       "      <td>6</td>\n",
       "      <td>523080</td>\n",
       "      <td>0.04</td>\n",
       "      <td>20923</td>\n",
       "      <td>Office Supplies</td>\n",
       "      <td>Storage &amp; Organization</td>\n",
       "    </tr>\n",
       "    <tr>\n",
       "      <th>1</th>\n",
       "      <td>293</td>\n",
       "      <td>Order Finished</td>\n",
       "      <td>Barry French</td>\n",
       "      <td>2012-10-01</td>\n",
       "      <td>49</td>\n",
       "      <td>20246040</td>\n",
       "      <td>0.07</td>\n",
       "      <td>1417223</td>\n",
       "      <td>Office Supplies</td>\n",
       "      <td>Appliances</td>\n",
       "    </tr>\n",
       "    <tr>\n",
       "      <th>2</th>\n",
       "      <td>483</td>\n",
       "      <td>Order Finished</td>\n",
       "      <td>Clay Rozendal</td>\n",
       "      <td>2011-07-10</td>\n",
       "      <td>30</td>\n",
       "      <td>9931519</td>\n",
       "      <td>0.08</td>\n",
       "      <td>794522</td>\n",
       "      <td>Technology</td>\n",
       "      <td>Telephones and Communication</td>\n",
       "    </tr>\n",
       "    <tr>\n",
       "      <th>3</th>\n",
       "      <td>515</td>\n",
       "      <td>Order Finished</td>\n",
       "      <td>Carlos Soltero</td>\n",
       "      <td>2010-08-28</td>\n",
       "      <td>19</td>\n",
       "      <td>788540</td>\n",
       "      <td>0.08</td>\n",
       "      <td>63083</td>\n",
       "      <td>Office Supplies</td>\n",
       "      <td>Appliances</td>\n",
       "    </tr>\n",
       "    <tr>\n",
       "      <th>4</th>\n",
       "      <td>613</td>\n",
       "      <td>Order Finished</td>\n",
       "      <td>Carl Jackson</td>\n",
       "      <td>2011-06-17</td>\n",
       "      <td>12</td>\n",
       "      <td>187080</td>\n",
       "      <td>0.03</td>\n",
       "      <td>5612</td>\n",
       "      <td>Office Supplies</td>\n",
       "      <td>Binders and Binder Accessories</td>\n",
       "    </tr>\n",
       "  </tbody>\n",
       "</table>\n",
       "</div>"
      ],
      "text/plain": [
       "            0                  1                         2             3  \\\n",
       "0          3    Order Finished     Muhammed MacIntyre        2010-10-13    \n",
       "1        293    Order Finished     Barry French              2012-10-01    \n",
       "2        483    Order Finished     Clay Rozendal             2011-07-10    \n",
       "3        515    Order Finished     Carlos Soltero            2010-08-28    \n",
       "4        613    Order Finished     Carl Jackson              2011-06-17    \n",
       "\n",
       "                  4            5           6                 7  \\\n",
       "0                6       523080        0.04             20923    \n",
       "1               49     20246040        0.07           1417223    \n",
       "2               30      9931519        0.08            794522    \n",
       "3               19       788540        0.08             63083    \n",
       "4               12       187080        0.03              5612    \n",
       "\n",
       "                    8                                 9  \n",
       "0   Office Supplies     Storage & Organization           \n",
       "1   Office Supplies     Appliances                       \n",
       "2   Technology          Telephones and Communication     \n",
       "3   Office Supplies     Appliances                       \n",
       "4   Office Supplies     Binders and Binder Accessories   "
      ]
     },
     "execution_count": 792,
     "metadata": {},
     "output_type": "execute_result"
    }
   ],
   "source": [
    "df1 = df1['order_id'].str.split('|', expand=True)\n",
    "df1.head()"
   ]
  },
  {
   "cell_type": "code",
   "execution_count": 793,
   "id": "5f361452",
   "metadata": {
    "scrolled": true
   },
   "outputs": [
    {
     "name": "stdout",
     "output_type": "stream",
     "text": [
      "<class 'pandas.core.frame.DataFrame'>\n",
      "RangeIndex: 5500 entries, 0 to 5499\n",
      "Data columns (total 10 columns):\n",
      " #   Column  Non-Null Count  Dtype \n",
      "---  ------  --------------  ----- \n",
      " 0   0       5500 non-null   object\n",
      " 1   1       5499 non-null   object\n",
      " 2   2       5499 non-null   object\n",
      " 3   3       5499 non-null   object\n",
      " 4   4       5499 non-null   object\n",
      " 5   5       5499 non-null   object\n",
      " 6   6       5499 non-null   object\n",
      " 7   7       5499 non-null   object\n",
      " 8   8       5499 non-null   object\n",
      " 9   9       5499 non-null   object\n",
      "dtypes: object(10)\n",
      "memory usage: 429.8+ KB\n"
     ]
    }
   ],
   "source": [
    "df1.info()"
   ]
  },
  {
   "cell_type": "code",
   "execution_count": 794,
   "id": "1587a0c3",
   "metadata": {},
   "outputs": [],
   "source": [
    "new_column_names = [\n",
    "    'order_id',\n",
    "    'order_status',\n",
    "    'customer',\n",
    "    'order_date',\n",
    "    'order_quantity',\n",
    "    'sales',\n",
    "    'discount',\n",
    "    'discount_value',\n",
    "    'product_category',\n",
    "    'product_subcategory'\n",
    "]\n",
    "\n",
    "df1.columns = new_column_names"
   ]
  },
  {
   "cell_type": "code",
   "execution_count": 795,
   "id": "92133419",
   "metadata": {},
   "outputs": [
    {
     "data": {
      "text/html": [
       "<div>\n",
       "<style scoped>\n",
       "    .dataframe tbody tr th:only-of-type {\n",
       "        vertical-align: middle;\n",
       "    }\n",
       "\n",
       "    .dataframe tbody tr th {\n",
       "        vertical-align: top;\n",
       "    }\n",
       "\n",
       "    .dataframe thead th {\n",
       "        text-align: right;\n",
       "    }\n",
       "</style>\n",
       "<table border=\"1\" class=\"dataframe\">\n",
       "  <thead>\n",
       "    <tr style=\"text-align: right;\">\n",
       "      <th></th>\n",
       "      <th>order_id</th>\n",
       "      <th>order_status</th>\n",
       "      <th>customer</th>\n",
       "      <th>order_date</th>\n",
       "      <th>order_quantity</th>\n",
       "      <th>sales</th>\n",
       "      <th>discount</th>\n",
       "      <th>discount_value</th>\n",
       "      <th>product_category</th>\n",
       "      <th>product_subcategory</th>\n",
       "    </tr>\n",
       "  </thead>\n",
       "  <tbody>\n",
       "    <tr>\n",
       "      <th>5495</th>\n",
       "      <td>52706</td>\n",
       "      <td>Order Finished</td>\n",
       "      <td>Paul Prost</td>\n",
       "      <td>2012-07-09</td>\n",
       "      <td>34</td>\n",
       "      <td>2083320</td>\n",
       "      <td>0.02</td>\n",
       "      <td>41666</td>\n",
       "      <td>Office Supplies</td>\n",
       "      <td>Binders and Binder Accessories</td>\n",
       "    </tr>\n",
       "    <tr>\n",
       "      <th>5496</th>\n",
       "      <td>54279</td>\n",
       "      <td>Order Finished</td>\n",
       "      <td>Lisa DeCherney</td>\n",
       "      <td>2011-07-30</td>\n",
       "      <td>41</td>\n",
       "      <td>20142180</td>\n",
       "      <td>0.1</td>\n",
       "      <td>2014218</td>\n",
       "      <td>Technology</td>\n",
       "      <td>Office Machines</td>\n",
       "    </tr>\n",
       "    <tr>\n",
       "      <th>5497</th>\n",
       "      <td>55558</td>\n",
       "      <td>Order Finished</td>\n",
       "      <td>Philip Brown</td>\n",
       "      <td>2010-08-09</td>\n",
       "      <td>8</td>\n",
       "      <td>2588080</td>\n",
       "      <td>0.05</td>\n",
       "      <td>129404</td>\n",
       "      <td>Furniture</td>\n",
       "      <td>Bookcases</td>\n",
       "    </tr>\n",
       "    <tr>\n",
       "      <th>5498</th>\n",
       "      <td>56581</td>\n",
       "      <td>Order Finished</td>\n",
       "      <td>Lisa DeCherney</td>\n",
       "      <td>2009-02-08</td>\n",
       "      <td>20</td>\n",
       "      <td>4052020</td>\n",
       "      <td>0.1</td>\n",
       "      <td>405202</td>\n",
       "      <td>Furniture</td>\n",
       "      <td>Office Furnishings</td>\n",
       "    </tr>\n",
       "    <tr>\n",
       "      <th>5499</th>\n",
       "      <td>+----------+-----------------+----------------...</td>\n",
       "      <td>None</td>\n",
       "      <td>None</td>\n",
       "      <td>None</td>\n",
       "      <td>None</td>\n",
       "      <td>None</td>\n",
       "      <td>None</td>\n",
       "      <td>None</td>\n",
       "      <td>None</td>\n",
       "      <td>None</td>\n",
       "    </tr>\n",
       "  </tbody>\n",
       "</table>\n",
       "</div>"
      ],
      "text/plain": [
       "                                               order_id       order_status  \\\n",
       "5495                                             52706    Order Finished     \n",
       "5496                                             54279    Order Finished     \n",
       "5497                                             55558    Order Finished     \n",
       "5498                                             56581    Order Finished     \n",
       "5499  +----------+-----------------+----------------...               None   \n",
       "\n",
       "                      customer    order_date    order_quantity        sales  \\\n",
       "5495   Paul Prost                2012-07-09                34      2083320    \n",
       "5496   Lisa DeCherney            2011-07-30                41     20142180    \n",
       "5497   Philip Brown              2010-08-09                 8      2588080    \n",
       "5498   Lisa DeCherney            2009-02-08                20      4052020    \n",
       "5499                      None          None              None         None   \n",
       "\n",
       "        discount    discount_value    product_category  \\\n",
       "5495       0.02             41666    Office Supplies     \n",
       "5496        0.1           2014218    Technology          \n",
       "5497       0.05            129404    Furniture           \n",
       "5498        0.1            405202    Furniture           \n",
       "5499        None              None                None   \n",
       "\n",
       "                   product_subcategory  \n",
       "5495   Binders and Binder Accessories   \n",
       "5496   Office Machines                  \n",
       "5497   Bookcases                        \n",
       "5498   Office Furnishings               \n",
       "5499                              None  "
      ]
     },
     "execution_count": 795,
     "metadata": {},
     "output_type": "execute_result"
    }
   ],
   "source": [
    "df1.tail()"
   ]
  },
  {
   "cell_type": "code",
   "execution_count": 796,
   "id": "fa17b78f",
   "metadata": {},
   "outputs": [],
   "source": [
    "df1 = df1.drop(df1.index[-1])"
   ]
  },
  {
   "cell_type": "code",
   "execution_count": 797,
   "id": "0d9c9ce7",
   "metadata": {
    "scrolled": true
   },
   "outputs": [],
   "source": [
    "# order_id: object --> int\n",
    "df1['order_id'] = df1['order_id'].astype(int)\n",
    "\n",
    "# order_date: object --> datetime\n",
    "df1['order_date'] = pd.to_datetime(df1['order_date'])\n",
    "\n",
    "# order_quantity: object --> int\n",
    "df1['order_quantity'] = df1['order_quantity'].astype(int)\n",
    "\n",
    "# sales: object --> int\n",
    "df1['sales'] = df1['sales'].astype(int)\n",
    "\n",
    "# discount: object --> float\n",
    "df1['discount'] = df1['discount'].astype(float)\n",
    "\n",
    "# discount_value: object --> int\n",
    "df1['discount_value'] = df1['discount_value'].astype(int)\n",
    "\n",
    "\n"
   ]
  },
  {
   "cell_type": "code",
   "execution_count": 798,
   "id": "3aa9cf6b",
   "metadata": {},
   "outputs": [
    {
     "data": {
      "text/plain": [
       "0"
      ]
     },
     "execution_count": 798,
     "metadata": {},
     "output_type": "execute_result"
    }
   ],
   "source": [
    "df1.duplicated().sum()"
   ]
  },
  {
   "cell_type": "code",
   "execution_count": 799,
   "id": "39642e4a",
   "metadata": {},
   "outputs": [
    {
     "data": {
      "text/plain": [
       "order_id               0\n",
       "order_status           0\n",
       "customer               0\n",
       "order_date             0\n",
       "order_quantity         0\n",
       "sales                  0\n",
       "discount               0\n",
       "discount_value         0\n",
       "product_category       0\n",
       "product_subcategory    0\n",
       "dtype: int64"
      ]
     },
     "execution_count": 799,
     "metadata": {},
     "output_type": "execute_result"
    }
   ],
   "source": [
    "df1.isnull().sum()"
   ]
  },
  {
   "cell_type": "code",
   "execution_count": 800,
   "id": "c33efacd",
   "metadata": {},
   "outputs": [
    {
     "data": {
      "text/plain": [
       "order_status\n",
       " Order Finished      4924\n",
       " Order Returned       572\n",
       " Order Cancelled        3\n",
       "Name: count, dtype: int64"
      ]
     },
     "execution_count": 800,
     "metadata": {},
     "output_type": "execute_result"
    }
   ],
   "source": [
    "df1['order_status'].value_counts()"
   ]
  },
  {
   "cell_type": "code",
   "execution_count": 801,
   "id": "f58a044e",
   "metadata": {},
   "outputs": [
    {
     "data": {
      "text/plain": [
       "product_category\n",
       " Office Supplies      3066\n",
       " Technology           1280\n",
       " Furniture            1153\n",
       "Name: count, dtype: int64"
      ]
     },
     "execution_count": 801,
     "metadata": {},
     "output_type": "execute_result"
    }
   ],
   "source": [
    "df1['product_category'].value_counts()"
   ]
  },
  {
   "cell_type": "code",
   "execution_count": 802,
   "id": "416aaf9f",
   "metadata": {
    "scrolled": false
   },
   "outputs": [
    {
     "data": {
      "text/plain": [
       "product_subcategory\n",
       " Binders and Binder Accessories     768\n",
       " Paper                              736\n",
       " Computer Peripherals               561\n",
       " Office Furnishings                 530\n",
       " Telephones and Communication       429\n",
       " Appliances                         375\n",
       " Pens & Art Supplies                359\n",
       " Chairs & Chairmats                 301\n",
       " Storage & Organization             276\n",
       " Office Machines                    234\n",
       " Labels                             206\n",
       " Tables                             180\n",
       " Envelopes                          174\n",
       " Bookcases                          142\n",
       " Rubber Bands                        97\n",
       " Scissors, Rulers and Trimmers       75\n",
       " Copiers and Fax                     56\n",
       "Name: count, dtype: int64"
      ]
     },
     "execution_count": 802,
     "metadata": {},
     "output_type": "execute_result"
    }
   ],
   "source": [
    "df1['product_subcategory'].value_counts()"
   ]
  },
  {
   "cell_type": "markdown",
   "id": "31697574",
   "metadata": {},
   "source": [
    "> I noticed that there were leading spaces so I will clean those up by using the 'applymap()' method. This will strip leading and trailing spaces"
   ]
  },
  {
   "cell_type": "code",
   "execution_count": 803,
   "id": "710c91e0",
   "metadata": {},
   "outputs": [],
   "source": [
    "# Using 'applymap()' to strip leading and trailing spaces from data points\n",
    "df1 = df1.applymap(lambda x: x.strip() if isinstance(x, str) else x)"
   ]
  },
  {
   "cell_type": "code",
   "execution_count": 804,
   "id": "e9ce37b9",
   "metadata": {
    "scrolled": true
   },
   "outputs": [
    {
     "data": {
      "text/html": [
       "<div>\n",
       "<style scoped>\n",
       "    .dataframe tbody tr th:only-of-type {\n",
       "        vertical-align: middle;\n",
       "    }\n",
       "\n",
       "    .dataframe tbody tr th {\n",
       "        vertical-align: top;\n",
       "    }\n",
       "\n",
       "    .dataframe thead th {\n",
       "        text-align: right;\n",
       "    }\n",
       "</style>\n",
       "<table border=\"1\" class=\"dataframe\">\n",
       "  <thead>\n",
       "    <tr style=\"text-align: right;\">\n",
       "      <th></th>\n",
       "      <th>order_id</th>\n",
       "      <th>order_status</th>\n",
       "      <th>customer</th>\n",
       "      <th>order_date</th>\n",
       "      <th>order_quantity</th>\n",
       "      <th>sales</th>\n",
       "      <th>discount</th>\n",
       "      <th>discount_value</th>\n",
       "      <th>product_category</th>\n",
       "      <th>product_subcategory</th>\n",
       "    </tr>\n",
       "  </thead>\n",
       "  <tbody>\n",
       "    <tr>\n",
       "      <th>0</th>\n",
       "      <td>3</td>\n",
       "      <td>Order Finished</td>\n",
       "      <td>Muhammed MacIntyre</td>\n",
       "      <td>2010-10-13</td>\n",
       "      <td>6</td>\n",
       "      <td>523080</td>\n",
       "      <td>0.04</td>\n",
       "      <td>20923</td>\n",
       "      <td>Office Supplies</td>\n",
       "      <td>Storage &amp; Organization</td>\n",
       "    </tr>\n",
       "    <tr>\n",
       "      <th>1</th>\n",
       "      <td>293</td>\n",
       "      <td>Order Finished</td>\n",
       "      <td>Barry French</td>\n",
       "      <td>2012-10-01</td>\n",
       "      <td>49</td>\n",
       "      <td>20246040</td>\n",
       "      <td>0.07</td>\n",
       "      <td>1417223</td>\n",
       "      <td>Office Supplies</td>\n",
       "      <td>Appliances</td>\n",
       "    </tr>\n",
       "    <tr>\n",
       "      <th>2</th>\n",
       "      <td>483</td>\n",
       "      <td>Order Finished</td>\n",
       "      <td>Clay Rozendal</td>\n",
       "      <td>2011-07-10</td>\n",
       "      <td>30</td>\n",
       "      <td>9931519</td>\n",
       "      <td>0.08</td>\n",
       "      <td>794522</td>\n",
       "      <td>Technology</td>\n",
       "      <td>Telephones and Communication</td>\n",
       "    </tr>\n",
       "    <tr>\n",
       "      <th>3</th>\n",
       "      <td>515</td>\n",
       "      <td>Order Finished</td>\n",
       "      <td>Carlos Soltero</td>\n",
       "      <td>2010-08-28</td>\n",
       "      <td>19</td>\n",
       "      <td>788540</td>\n",
       "      <td>0.08</td>\n",
       "      <td>63083</td>\n",
       "      <td>Office Supplies</td>\n",
       "      <td>Appliances</td>\n",
       "    </tr>\n",
       "    <tr>\n",
       "      <th>4</th>\n",
       "      <td>613</td>\n",
       "      <td>Order Finished</td>\n",
       "      <td>Carl Jackson</td>\n",
       "      <td>2011-06-17</td>\n",
       "      <td>12</td>\n",
       "      <td>187080</td>\n",
       "      <td>0.03</td>\n",
       "      <td>5612</td>\n",
       "      <td>Office Supplies</td>\n",
       "      <td>Binders and Binder Accessories</td>\n",
       "    </tr>\n",
       "  </tbody>\n",
       "</table>\n",
       "</div>"
      ],
      "text/plain": [
       "   order_id    order_status            customer order_date  order_quantity  \\\n",
       "0         3  Order Finished  Muhammed MacIntyre 2010-10-13               6   \n",
       "1       293  Order Finished        Barry French 2012-10-01              49   \n",
       "2       483  Order Finished       Clay Rozendal 2011-07-10              30   \n",
       "3       515  Order Finished      Carlos Soltero 2010-08-28              19   \n",
       "4       613  Order Finished        Carl Jackson 2011-06-17              12   \n",
       "\n",
       "      sales  discount  discount_value product_category  \\\n",
       "0    523080      0.04           20923  Office Supplies   \n",
       "1  20246040      0.07         1417223  Office Supplies   \n",
       "2   9931519      0.08          794522       Technology   \n",
       "3    788540      0.08           63083  Office Supplies   \n",
       "4    187080      0.03            5612  Office Supplies   \n",
       "\n",
       "              product_subcategory  \n",
       "0          Storage & Organization  \n",
       "1                      Appliances  \n",
       "2    Telephones and Communication  \n",
       "3                      Appliances  \n",
       "4  Binders and Binder Accessories  "
      ]
     },
     "execution_count": 804,
     "metadata": {},
     "output_type": "execute_result"
    }
   ],
   "source": [
    "df1.head()"
   ]
  },
  {
   "cell_type": "markdown",
   "id": "8c17951a",
   "metadata": {},
   "source": [
    "## Order Status Countplot"
   ]
  },
  {
   "cell_type": "code",
   "execution_count": 805,
   "id": "00d13eb0",
   "metadata": {},
   "outputs": [
    {
     "data": {
      "image/png": "[encoded data removed]",
      "text/plain": [
       "<Figure size 640x480 with 1 Axes>"
      ]
     },
     "metadata": {},
     "output_type": "display_data"
    }
   ],
   "source": [
    "sns.countplot(data=df1, x='order_status', palette='husl')\n",
    "plt.title('Order Status Countplot')\n",
    "plt.xlabel('')\n",
    "plt.ylabel('Count')\n",
    "plt.show()"
   ]
  },
  {
   "cell_type": "code",
   "execution_count": 806,
   "id": "f117988a",
   "metadata": {
    "scrolled": false
   },
   "outputs": [
    {
     "data": {
      "text/plain": [
       "order_status\n",
       "Order Finished     89.543553\n",
       "Order Returned     10.401891\n",
       "Order Cancelled     0.054555\n",
       "Name: count, dtype: float64"
      ]
     },
     "execution_count": 806,
     "metadata": {},
     "output_type": "execute_result"
    }
   ],
   "source": [
    "df1['order_status'].value_counts()/df1.shape[0]*100"
   ]
  },
  {
   "cell_type": "markdown",
   "id": "4cb3b833",
   "metadata": {},
   "source": [
    "## Product Category Countplot"
   ]
  },
  {
   "cell_type": "code",
   "execution_count": 807,
   "id": "6a9fc996",
   "metadata": {
    "scrolled": true
   },
   "outputs": [
    {
     "data": {
      "image/png": "[encoded data removed]",
      "text/plain": [
       "<Figure size 640x480 with 1 Axes>"
      ]
     },
     "metadata": {},
     "output_type": "display_data"
    }
   ],
   "source": [
    "sns.countplot(data=df1, x='product_category', palette='husl')\n",
    "plt.title('Product Category Countplot')\n",
    "plt.xlabel('')\n",
    "plt.ylabel('Count')\n",
    "plt.show()"
   ]
  },
  {
   "cell_type": "markdown",
   "id": "16b9006c",
   "metadata": {},
   "source": [
    "## Product Subcategory Countplot"
   ]
  },
  {
   "cell_type": "code",
   "execution_count": 808,
   "id": "4f2e2a85",
   "metadata": {
    "scrolled": true
   },
   "outputs": [
    {
     "data": {
      "image/png": "[encoded data removed]",
      "text/plain": [
       "<Figure size 640x480 with 1 Axes>"
      ]
     },
     "metadata": {},
     "output_type": "display_data"
    }
   ],
   "source": [
    "subcategory_order = df1['product_subcategory'].value_counts().index\n",
    "\n",
    "sns.countplot(data=df1, x='product_subcategory', order=subcategory_order, palette='husl')\n",
    "plt.title('Product Subcategory Countplot')\n",
    "plt.xlabel('')\n",
    "plt.ylabel('Count')\n",
    "plt.xticks(rotation=90)\n",
    "plt.show()"
   ]
  },
  {
   "cell_type": "code",
   "execution_count": 809,
   "id": "84f18709",
   "metadata": {},
   "outputs": [],
   "source": [
    "subcategory_order = df1['product_subcategory'].value_counts().index.tolist()\n"
   ]
  },
  {
   "cell_type": "code",
   "execution_count": 810,
   "id": "b2701b4e",
   "metadata": {
    "scrolled": true
   },
   "outputs": [
    {
     "data": {
      "image/png": "[encoded data removed]",
      "text/plain": [
       "<Figure size 640x480 with 1 Axes>"
      ]
     },
     "metadata": {},
     "output_type": "display_data"
    }
   ],
   "source": [
    "sns.countplot(data=df1, x='product_subcategory', hue='product_category',  order=subcategory_order, palette='husl')\n",
    "plt.title('Product Subcategory Countplot')\n",
    "plt.xlabel('')\n",
    "plt.ylabel('Count')\n",
    "plt.xticks(rotation=90)\n",
    "plt.legend(title='')\n",
    "plt.show()"
   ]
  },
  {
   "cell_type": "code",
   "execution_count": 811,
   "id": "2c9cb860",
   "metadata": {},
   "outputs": [
    {
     "name": "stdout",
     "output_type": "stream",
     "text": [
      "<class 'pandas.core.frame.DataFrame'>\n",
      "RangeIndex: 5499 entries, 0 to 5498\n",
      "Data columns (total 10 columns):\n",
      " #   Column               Non-Null Count  Dtype         \n",
      "---  ------               --------------  -----         \n",
      " 0   order_id             5499 non-null   int64         \n",
      " 1   order_status         5499 non-null   object        \n",
      " 2   customer             5499 non-null   object        \n",
      " 3   order_date           5499 non-null   datetime64[ns]\n",
      " 4   order_quantity       5499 non-null   int64         \n",
      " 5   sales                5499 non-null   int64         \n",
      " 6   discount             5499 non-null   float64       \n",
      " 7   discount_value       5499 non-null   int64         \n",
      " 8   product_category     5499 non-null   object        \n",
      " 9   product_subcategory  5499 non-null   object        \n",
      "dtypes: datetime64[ns](1), float64(1), int64(4), object(4)\n",
      "memory usage: 429.7+ KB\n"
     ]
    }
   ],
   "source": [
    "df1.info()"
   ]
  },
  {
   "cell_type": "code",
   "execution_count": 812,
   "id": "a17df882",
   "metadata": {
    "scrolled": true
   },
   "outputs": [
    {
     "data": {
      "text/plain": [
       "777"
      ]
     },
     "execution_count": 812,
     "metadata": {},
     "output_type": "execute_result"
    }
   ],
   "source": [
    "df1['customer'].nunique()"
   ]
  },
  {
   "cell_type": "markdown",
   "id": "bf23bd63",
   "metadata": {},
   "source": [
    "## Top 10 Customers"
   ]
  },
  {
   "cell_type": "code",
   "execution_count": 813,
   "id": "7fc30264",
   "metadata": {},
   "outputs": [
    {
     "data": {
      "text/plain": [
       "customer\n",
       "Emily Phan                220589920\n",
       "Christina Vanderzanden    186631624\n",
       "Deborah Brumfield         182192930\n",
       "Grant Carroll             170382287\n",
       "Sylvia Foulston           156170673\n",
       "Roy Skaria                152857851\n",
       "Bill Donatelli            147916757\n",
       "Philip Brown              142536705\n",
       "Alejandro Grove           139242520\n",
       "Darren Budd               120043653\n",
       "Name: sales, dtype: int64"
      ]
     },
     "execution_count": 813,
     "metadata": {},
     "output_type": "execute_result"
    }
   ],
   "source": [
    "top10_customer = df1.groupby('customer')['sales'].sum().sort_values(ascending=False).head(10)\n",
    "top10_customer"
   ]
  },
  {
   "cell_type": "code",
   "execution_count": 814,
   "id": "80ebe17e",
   "metadata": {
    "scrolled": true
   },
   "outputs": [
    {
     "data": {
      "image/png": "[encoded data removed]",
      "text/plain": [
       "<Figure size 1200x800 with 1 Axes>"
      ]
     },
     "metadata": {},
     "output_type": "display_data"
    }
   ],
   "source": [
    "# Convert to DataFrame for Seaborn\n",
    "top10_customer_df = top10_customer.reset_index()\n",
    "top10_customer_df.columns = ['customer', 'total_sales']\n",
    "\n",
    "# Create a bar plot\n",
    "plt.figure(figsize=(12, 8))\n",
    "sns.barplot(data=top10_customer_df, x='customer', y='total_sales', palette='husl')\n",
    "plt.title('Top 10 Customers by Total Sales')\n",
    "plt.xlabel('Customer Name')\n",
    "plt.ylabel('Total Sales in Millions')\n",
    "plt.xticks(rotation=45)\n",
    "plt.show()"
   ]
  },
  {
   "cell_type": "markdown",
   "id": "89e41d11",
   "metadata": {},
   "source": [
    "## Feb, 2009 Generated the Most Revenue in a Month"
   ]
  },
  {
   "cell_type": "code",
   "execution_count": 815,
   "id": "e7e714c9",
   "metadata": {
    "scrolled": false
   },
   "outputs": [
    {
     "data": {
      "image/png": "[encoded data removed]",
      "text/plain": [
       "<Figure size 1200x800 with 1 Axes>"
      ]
     },
     "metadata": {},
     "output_type": "display_data"
    }
   ],
   "source": [
    "# Extract month and year from 'order_date'\n",
    "df1['month'] = df1['order_date'].dt.to_period('M')\n",
    "\n",
    "# Sum of sales per month\n",
    "monthly_sales = df1.groupby('month')['sales'].sum()\n",
    "\n",
    "# Convert Series to DataFrame for Seaborn\n",
    "monthly_sales_df = monthly_sales.reset_index()\n",
    "monthly_sales_df.columns = ['month', 'total_sales']\n",
    "\n",
    "# Create a bar plot\n",
    "plt.figure(figsize=(12, 8))\n",
    "sns.barplot(data=monthly_sales_df, x='month', y='total_sales', palette='husl')\n",
    "plt.title('Total Sales Per Month')\n",
    "plt.xlabel('Month')\n",
    "plt.ylabel('Total Sales')\n",
    "plt.xticks(rotation=45)\n",
    "plt.show()"
   ]
  },
  {
   "cell_type": "markdown",
   "id": "c85090b6",
   "metadata": {},
   "source": [
    "## Most Revenue Generated in 2009"
   ]
  },
  {
   "cell_type": "code",
   "execution_count": 816,
   "id": "590ef0b1",
   "metadata": {
    "scrolled": false
   },
   "outputs": [
    {
     "data": {
      "image/png": "[encoded data removed]",
      "text/plain": [
       "<Figure size 1200x800 with 1 Axes>"
      ]
     },
     "metadata": {},
     "output_type": "display_data"
    }
   ],
   "source": [
    "# Extract year from 'order_date'\n",
    "df1['year'] = df1['order_date'].dt.year\n",
    "\n",
    "# Sum sales per year\n",
    "annual_sales = df1.groupby('year')['sales'].sum()\n",
    "\n",
    "# Convert Series to DataFrame for Seaborn\n",
    "annual_sales_df = annual_sales.reset_index()\n",
    "annual_sales_df.columns = ['year', 'total_sales']\n",
    "\n",
    "# Create a bar plot\n",
    "plt.figure(figsize=(12, 8))\n",
    "sns.barplot(data=annual_sales_df, x='year', y='total_sales', palette='husl')\n",
    "plt.title('Total Sales by Year')\n",
    "plt.xlabel('Year')\n",
    "plt.ylabel('Total Sales')\n",
    "plt.xticks(rotation=0)\n",
    "plt.show()"
   ]
  },
  {
   "cell_type": "markdown",
   "id": "56c51f98",
   "metadata": {},
   "source": [
    "## 1. Total Sales"
   ]
  },
  {
   "cell_type": "code",
   "execution_count": 817,
   "id": "e0332e27",
   "metadata": {
    "scrolled": true
   },
   "outputs": [
    {
     "data": {
      "text/plain": [
       "19427074751"
      ]
     },
     "execution_count": 817,
     "metadata": {},
     "output_type": "execute_result"
    }
   ],
   "source": [
    "df1['sales'].sum()"
   ]
  },
  {
   "cell_type": "markdown",
   "id": "4a908854",
   "metadata": {},
   "source": [
    "## 2. Total Orders"
   ]
  },
  {
   "cell_type": "code",
   "execution_count": 818,
   "id": "22bf9e07",
   "metadata": {},
   "outputs": [
    {
     "data": {
      "text/plain": [
       "5499"
      ]
     },
     "execution_count": 818,
     "metadata": {},
     "output_type": "execute_result"
    }
   ],
   "source": [
    "df1['order_id'].count()"
   ]
  },
  {
   "cell_type": "markdown",
   "id": "f7138d88",
   "metadata": {},
   "source": [
    "## 3. Average Order Value (AOV)"
   ]
  },
  {
   "cell_type": "code",
   "execution_count": 819,
   "id": "95be38f8",
   "metadata": {},
   "outputs": [
    {
     "data": {
      "text/plain": [
       "3532838.0"
      ]
     },
     "execution_count": 819,
     "metadata": {},
     "output_type": "execute_result"
    }
   ],
   "source": [
    "round(df1['sales'].mean(),0)"
   ]
  },
  {
   "cell_type": "markdown",
   "id": "32ffa6ac",
   "metadata": {},
   "source": [
    "## 4. Total Discounts"
   ]
  },
  {
   "cell_type": "code",
   "execution_count": 820,
   "id": "df8dbfab",
   "metadata": {},
   "outputs": [
    {
     "data": {
      "text/plain": [
       "954102735"
      ]
     },
     "execution_count": 820,
     "metadata": {},
     "output_type": "execute_result"
    }
   ],
   "source": [
    "df1['discount_value'].sum()"
   ]
  },
  {
   "cell_type": "markdown",
   "id": "1494bb58",
   "metadata": {},
   "source": [
    "## 5. Total Discount Value"
   ]
  },
  {
   "cell_type": "code",
   "execution_count": 821,
   "id": "8678ba96",
   "metadata": {},
   "outputs": [
    {
     "data": {
      "text/plain": [
       "173504.77086743043"
      ]
     },
     "execution_count": 821,
     "metadata": {},
     "output_type": "execute_result"
    }
   ],
   "source": [
    "df1['discount_value'].mean()"
   ]
  },
  {
   "cell_type": "markdown",
   "id": "ba9b3539",
   "metadata": {},
   "source": [
    "## 6. Total Sales After Discounts"
   ]
  },
  {
   "cell_type": "code",
   "execution_count": 822,
   "id": "590e1a44",
   "metadata": {},
   "outputs": [
    {
     "data": {
      "text/plain": [
       "18472972016"
      ]
     },
     "execution_count": 822,
     "metadata": {},
     "output_type": "execute_result"
    }
   ],
   "source": [
    "df1['sales'].sum() - df1['discount_value'].sum()"
   ]
  },
  {
   "cell_type": "markdown",
   "id": "661db611",
   "metadata": {},
   "source": [
    "## 7. Sales by Product Category"
   ]
  },
  {
   "cell_type": "code",
   "execution_count": 823,
   "id": "5e4fe19f",
   "metadata": {},
   "outputs": [
    {
     "data": {
      "text/plain": [
       "product_category\n",
       "Technology         7422758843\n",
       "Furniture          6655751588\n",
       "Office Supplies    5348564320\n",
       "Name: sales, dtype: int64"
      ]
     },
     "execution_count": 823,
     "metadata": {},
     "output_type": "execute_result"
    }
   ],
   "source": [
    "df1.groupby('product_category')['sales'].sum().sort_values(ascending=False)"
   ]
  },
  {
   "cell_type": "markdown",
   "id": "fd6835e8",
   "metadata": {},
   "source": [
    "## 8. Sales by Product Subcategory"
   ]
  },
  {
   "cell_type": "code",
   "execution_count": 824,
   "id": "a03be3c9",
   "metadata": {},
   "outputs": [
    {
     "data": {
      "text/plain": [
       "product_subcategory\n",
       "Office Machines                   2992042700\n",
       "Chairs & Chairmats                2796723780\n",
       "Tables                            1823721028\n",
       "Telephones and Communication      1759096403\n",
       "Binders and Binder Accessories    1684448160\n",
       "Copiers and Fax                   1469965760\n",
       "Storage & Organization            1317117740\n",
       "Appliances                        1238552900\n",
       "Computer Peripherals              1201653980\n",
       "Bookcases                         1148115720\n",
       "Office Furnishings                 887191060\n",
       "Paper                              515461960\n",
       "Envelopes                          242269680\n",
       "Pens & Art Supplies                196486220\n",
       "Scissors, Rulers and Trimmers       83269460\n",
       "Labels                              54624320\n",
       "Rubber Bands                        16333880\n",
       "Name: sales, dtype: int64"
      ]
     },
     "execution_count": 824,
     "metadata": {},
     "output_type": "execute_result"
    }
   ],
   "source": [
    "df1.groupby('product_subcategory')['sales'].sum().sort_values(ascending=False)"
   ]
  },
  {
   "cell_type": "markdown",
   "id": "5bbc5c7f",
   "metadata": {},
   "source": [
    "## 9. Sales by Customer"
   ]
  },
  {
   "cell_type": "code",
   "execution_count": 825,
   "id": "ba07388f",
   "metadata": {},
   "outputs": [
    {
     "data": {
      "text/plain": [
       "customer\n",
       "Emily Phan                220589920\n",
       "Christina Vanderzanden    186631624\n",
       "Deborah Brumfield         182192930\n",
       "Grant Carroll             170382287\n",
       "Sylvia Foulston           156170673\n",
       "Roy Skaria                152857851\n",
       "Bill Donatelli            147916757\n",
       "Philip Brown              142536705\n",
       "Alejandro Grove           139242520\n",
       "Darren Budd               120043653\n",
       "Name: sales, dtype: int64"
      ]
     },
     "execution_count": 825,
     "metadata": {},
     "output_type": "execute_result"
    }
   ],
   "source": [
    "df1.groupby('customer')['sales'].sum().sort_values(ascending=False).head(10)"
   ]
  },
  {
   "cell_type": "markdown",
   "id": "f7ada677",
   "metadata": {},
   "source": [
    "## 10. Order Quantity by Product Category"
   ]
  },
  {
   "cell_type": "code",
   "execution_count": 826,
   "id": "9b134bbe",
   "metadata": {
    "scrolled": true
   },
   "outputs": [
    {
     "data": {
      "text/plain": [
       "product_category\n",
       "Office Supplies    78422\n",
       "Technology         32611\n",
       "Furniture          29310\n",
       "Name: order_quantity, dtype: int64"
      ]
     },
     "execution_count": 826,
     "metadata": {},
     "output_type": "execute_result"
    }
   ],
   "source": [
    "df1.groupby('product_category')['order_quantity'].sum().sort_values(ascending=False)"
   ]
  },
  {
   "cell_type": "markdown",
   "id": "29ffccc6",
   "metadata": {},
   "source": [
    "## 11. Order Quantity by Product Subcategory"
   ]
  },
  {
   "cell_type": "code",
   "execution_count": 827,
   "id": "8ec29399",
   "metadata": {
    "scrolled": true
   },
   "outputs": [
    {
     "data": {
      "text/plain": [
       "product_subcategory\n",
       "Binders and Binder Accessories    19466\n",
       "Paper                             18340\n",
       "Computer Peripherals              14269\n",
       "Office Furnishings                13687\n",
       "Telephones and Communication      11395\n",
       "Pens & Art Supplies                9681\n",
       "Appliances                         9308\n",
       "Chairs & Chairmats                 7568\n",
       "Storage & Organization             7030\n",
       "Office Machines                    5484\n",
       "Labels                             5179\n",
       "Envelopes                          4620\n",
       "Tables                             4433\n",
       "Bookcases                          3622\n",
       "Rubber Bands                       2682\n",
       "Scissors, Rulers and Trimmers      2116\n",
       "Copiers and Fax                    1463\n",
       "Name: order_quantity, dtype: int64"
      ]
     },
     "execution_count": 827,
     "metadata": {},
     "output_type": "execute_result"
    }
   ],
   "source": [
    "df1.groupby('product_subcategory')['order_quantity'].sum().sort_values(ascending=False)"
   ]
  },
  {
   "cell_type": "markdown",
   "id": "4bb36d42",
   "metadata": {},
   "source": [
    "## 12. Order Status Breakdown "
   ]
  },
  {
   "cell_type": "code",
   "execution_count": 828,
   "id": "7973b9c5",
   "metadata": {},
   "outputs": [
    {
     "data": {
      "text/plain": [
       "order_status\n",
       "Order Finished     4924\n",
       "Order Returned      572\n",
       "Order Cancelled       3\n",
       "Name: count, dtype: int64"
      ]
     },
     "execution_count": 828,
     "metadata": {},
     "output_type": "execute_result"
    }
   ],
   "source": [
    "df1['order_status'].value_counts()"
   ]
  },
  {
   "cell_type": "markdown",
   "id": "e6dc32d3",
   "metadata": {},
   "source": [
    "## 13. Monthly Sales Trend"
   ]
  },
  {
   "cell_type": "code",
   "execution_count": 829,
   "id": "5f47ee8e",
   "metadata": {},
   "outputs": [],
   "source": [
    "df1['month_only'] = df1['month'].dt.month\n",
    "df1 = df1.drop(columns=['month'])\n",
    "df1 = df1.rename(columns={'month_only': 'month'})"
   ]
  },
  {
   "cell_type": "code",
   "execution_count": 830,
   "id": "78084bd4",
   "metadata": {
    "scrolled": true
   },
   "outputs": [
    {
     "data": {
      "text/plain": [
       "month\n",
       "1     1782068853\n",
       "2     1664400513\n",
       "3     1939128117\n",
       "4     1524384925\n",
       "5     1549452537\n",
       "6     1322027913\n",
       "7     1490649422\n",
       "8     1548486326\n",
       "9     1660224131\n",
       "10    1629951220\n",
       "11    1577706337\n",
       "12    1738594457\n",
       "Name: sales, dtype: int64"
      ]
     },
     "execution_count": 830,
     "metadata": {},
     "output_type": "execute_result"
    }
   ],
   "source": [
    "df1.groupby('month')['sales'].sum()"
   ]
  },
  {
   "cell_type": "markdown",
   "id": "2a16c24f",
   "metadata": {},
   "source": [
    "## 14. Customer Rentention Rate"
   ]
  },
  {
   "cell_type": "code",
   "execution_count": 831,
   "id": "90799de6",
   "metadata": {
    "scrolled": true
   },
   "outputs": [
    {
     "name": "stdout",
     "output_type": "stream",
     "text": [
      "Retention Rate: 98.07%\n"
     ]
    }
   ],
   "source": [
    "# Counts of each unique customer\n",
    "customer_count = df1['customer'].value_counts()\n",
    "\n",
    "# Number of customers who made multiple purchases\n",
    "repeats = customer_count[customer_count >1].count()\n",
    "\n",
    "# Total number of unique customers\n",
    "total = customer_count.count()\n",
    "\n",
    "retention_rate = repeats / total * 100\n",
    "print(f'Retention Rate: {retention_rate:.2f}%')"
   ]
  },
  {
   "cell_type": "markdown",
   "id": "f51930d1",
   "metadata": {},
   "source": [
    "## 15. Sales Per Order"
   ]
  },
  {
   "cell_type": "code",
   "execution_count": 832,
   "id": "664b91ce",
   "metadata": {},
   "outputs": [
    {
     "data": {
      "text/plain": [
       "3534766.148289665"
      ]
     },
     "execution_count": 832,
     "metadata": {},
     "output_type": "execute_result"
    }
   ],
   "source": [
    "df1.groupby('order_id')['sales'].sum().mean()"
   ]
  },
  {
   "cell_type": "markdown",
   "id": "71d70700",
   "metadata": {},
   "source": [
    "## 16. Revenue Per Customer"
   ]
  },
  {
   "cell_type": "code",
   "execution_count": 833,
   "id": "d1ae53e1",
   "metadata": {},
   "outputs": [
    {
     "data": {
      "text/plain": [
       "25002670.207207207"
      ]
     },
     "execution_count": 833,
     "metadata": {},
     "output_type": "execute_result"
    }
   ],
   "source": [
    "df1.groupby('customer')['sales'].sum().mean()"
   ]
  }
 ],
 "metadata": {
  "kernelspec": {
   "display_name": "Python 3 (ipykernel)",
   "language": "python",
   "name": "python3"
  },
  "language_info": {
   "codemirror_mode": {
    "name": "ipython",
    "version": 3
   },
   "file_extension": ".py",
   "mimetype": "text/x-python",
   "name": "python",
   "nbconvert_exporter": "python",
   "pygments_lexer": "ipython3",
   "version": "3.11.4"
  }
 },
 "nbformat": 4,
 "nbformat_minor": 5
}
